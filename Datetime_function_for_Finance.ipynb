{
  "nbformat": 4,
  "nbformat_minor": 0,
  "metadata": {
    "colab": {
      "name": "Datetime_Function_Finance_DataCamp.ipynb",
      "provenance": [],
      "collapsed_sections": [],
      "toc_visible": true
    },
    "kernelspec": {
      "name": "python3",
      "display_name": "Python 3"
    }
  },
  "cells": [
    {
      "cell_type": "markdown",
      "metadata": {
        "id": "plt6PUsVtrYT"
      },
      "source": [
        "# Python Datetime() function for Finance"
      ]
    },
    {
      "cell_type": "markdown",
      "metadata": {
        "id": "Le70iwASxuEe"
      },
      "source": [
        "## Work By - **RAVJOT SINGH**\r\n",
        "\r\n",
        "E-Mail - ravjot313@gmail.com\r\n",
        "\r\n",
        "Website - https://ravjot03.github.io/\r\n",
        "\r\n",
        "LinkedIn - https://www.linkedin.com/in/ravjot03/\r\n",
        "\r\n",
        "GitHub - https://github.com/Ravjot03\r\n",
        "\r\n",
        "Medium - https://medium.com/@ravjot03"
      ]
    },
    {
      "cell_type": "markdown",
      "metadata": {
        "id": "IOx0KNVqmveB"
      },
      "source": [
        "## Importing datetime package"
      ]
    },
    {
      "cell_type": "markdown",
      "metadata": {
        "id": "uGqUHNcyon_o"
      },
      "source": [
        "`datetime` module -\r\n",
        "\r\n",
        "In Python, date and time are not a data type of its own, but a module named datetime can be imported to work with the date as well as time.\r\n",
        "\r\n",
        "Datetime module supplies classes to work with date and time. These classes provide a number of functions to deal with dates, times and time intervals."
      ]
    },
    {
      "cell_type": "code",
      "metadata": {
        "id": "3KCTb_hfbAzu"
      },
      "source": [
        "from datetime import datetime\r\n",
        "\r\n",
        "#datetime -- Its a combination of date and time along with the attributes year, month, day, hour, minute, second, microsecond, and tzinfo."
      ],
      "execution_count": 51,
      "outputs": []
    },
    {
      "cell_type": "code",
      "metadata": {
        "id": "NI7mQ1ZLbD6Z"
      },
      "source": [
        "black_monday = datetime(1987,10,19)"
      ],
      "execution_count": 52,
      "outputs": []
    },
    {
      "cell_type": "code",
      "metadata": {
        "colab": {
          "base_uri": "https://localhost:8080/"
        },
        "id": "bT3NUwJIbHi2",
        "outputId": "1fa50fba-732d-4bac-9df0-cf42e05e018f"
      },
      "source": [
        "black_monday"
      ],
      "execution_count": 53,
      "outputs": [
        {
          "output_type": "execute_result",
          "data": {
            "text/plain": [
              "datetime.datetime(1987, 10, 19, 0, 0)"
            ]
          },
          "metadata": {
            "tags": []
          },
          "execution_count": 53
        }
      ]
    },
    {
      "cell_type": "code",
      "metadata": {
        "colab": {
          "base_uri": "https://localhost:8080/"
        },
        "id": "b6TDtT2ObLTw",
        "outputId": "681e24d5-139a-40fe-cbcd-b2fb0f3b90ae"
      },
      "source": [
        "#Type of variable\r\n",
        "type(black_monday)"
      ],
      "execution_count": 54,
      "outputs": [
        {
          "output_type": "execute_result",
          "data": {
            "text/plain": [
              "datetime.datetime"
            ]
          },
          "metadata": {
            "tags": []
          },
          "execution_count": 54
        }
      ]
    },
    {
      "cell_type": "markdown",
      "metadata": {
        "id": "mdF__WLAnBR-"
      },
      "source": [
        "## Datetime from string\r\n",
        "\r\n",
        "To create a datetime object from a string."
      ]
    },
    {
      "cell_type": "markdown",
      "metadata": {
        "id": "czbvNlNrpXHE"
      },
      "source": [
        "`datetime.strptime()` -- The strptime() class method takes two arguments:\r\n",
        "\r\n",
        "1.   string (that be converted to datetime)\r\n",
        "2.   format code\r\n",
        "\r\n",
        "Based on the string and format code used, the method returns its equivalent datetime object.\r\n",
        "\r\n"
      ]
    },
    {
      "cell_type": "code",
      "metadata": {
        "colab": {
          "base_uri": "https://localhost:8080/"
        },
        "id": "qVtpTw0ubZdI",
        "outputId": "76a53a81-84b0-4750-b714-e0c64f009428"
      },
      "source": [
        "black_monday_str = \"Monday, October 19, 1987. 9:30 am\"\r\n",
        "format_str = \"%A, %B %d, %Y. %I:%M %p\"\r\n",
        "\r\n",
        "datetime.strptime(black_monday_str, format_str) "
      ],
      "execution_count": 55,
      "outputs": [
        {
          "output_type": "execute_result",
          "data": {
            "text/plain": [
              "datetime.datetime(1987, 10, 19, 9, 30)"
            ]
          },
          "metadata": {
            "tags": []
          },
          "execution_count": 55
        }
      ]
    },
    {
      "cell_type": "markdown",
      "metadata": {
        "id": "y9Q83gTJnOVs"
      },
      "source": [
        "## String from datetime\r\n",
        "\r\n",
        "To convert datetime objects to its equivalent string."
      ]
    },
    {
      "cell_type": "markdown",
      "metadata": {
        "id": "GCBkEMM7qim9"
      },
      "source": [
        "`datetime.strftime()` -- The strftime() method takes one or more format codes as an argument and returns a formatted string based on it."
      ]
    },
    {
      "cell_type": "code",
      "metadata": {
        "colab": {
          "base_uri": "https://localhost:8080/"
        },
        "id": "lfGZrYYvcHuA",
        "outputId": "cf500ee9-a710-490c-cef4-7b38963f1120"
      },
      "source": [
        "great_depression_crash = datetime(1929, 10, 29)\r\n",
        "great_depression_crash"
      ],
      "execution_count": 56,
      "outputs": [
        {
          "output_type": "execute_result",
          "data": {
            "text/plain": [
              "datetime.datetime(1929, 10, 29, 0, 0)"
            ]
          },
          "metadata": {
            "tags": []
          },
          "execution_count": 56
        }
      ]
    },
    {
      "cell_type": "code",
      "metadata": {
        "colab": {
          "base_uri": "https://localhost:8080/",
          "height": 35
        },
        "id": "jeZn2fYlcSTJ",
        "outputId": "8146859b-50c3-4fdf-e9a8-64f79b4e793b"
      },
      "source": [
        "great_depression_crash.strftime(\"%a, %b %d, %Y\")"
      ],
      "execution_count": 57,
      "outputs": [
        {
          "output_type": "execute_result",
          "data": {
            "application/vnd.google.colaboratory.intrinsic+json": {
              "type": "string"
            },
            "text/plain": [
              "'Tue, Oct 29, 1929'"
            ]
          },
          "metadata": {
            "tags": []
          },
          "execution_count": 57
        }
      ]
    },
    {
      "cell_type": "code",
      "metadata": {
        "colab": {
          "base_uri": "https://localhost:8080/",
          "height": 35
        },
        "id": "c1CVqux0q-iM",
        "outputId": "717f7143-1aa2-4179-9b18-0be60ac8f35d"
      },
      "source": [
        "great_depression_crash.strftime(\"%B %d %Y\")"
      ],
      "execution_count": 58,
      "outputs": [
        {
          "output_type": "execute_result",
          "data": {
            "application/vnd.google.colaboratory.intrinsic+json": {
              "type": "string"
            },
            "text/plain": [
              "'October 29 1929'"
            ]
          },
          "metadata": {
            "tags": []
          },
          "execution_count": 58
        }
      ]
    },
    {
      "cell_type": "markdown",
      "metadata": {
        "id": "JwXZoz6_nVg8"
      },
      "source": [
        "## Datetime now() function"
      ]
    },
    {
      "cell_type": "markdown",
      "metadata": {
        "id": "9FmApV8FrdGZ"
      },
      "source": [
        "`datetime.now()` -- It gives the current date and time."
      ]
    },
    {
      "cell_type": "code",
      "metadata": {
        "colab": {
          "base_uri": "https://localhost:8080/"
        },
        "id": "dgeapUxobSCY",
        "outputId": "0fb2ea0c-cbbf-4035-8328-dd800b10d6a5"
      },
      "source": [
        "datetime.now()"
      ],
      "execution_count": 59,
      "outputs": [
        {
          "output_type": "execute_result",
          "data": {
            "text/plain": [
              "datetime.datetime(2020, 12, 22, 14, 9, 24, 986547)"
            ]
          },
          "metadata": {
            "tags": []
          },
          "execution_count": 59
        }
      ]
    },
    {
      "cell_type": "markdown",
      "metadata": {
        "id": "_dTPjHApnY2U"
      },
      "source": [
        "### Datetime attributes"
      ]
    },
    {
      "cell_type": "code",
      "metadata": {
        "colab": {
          "base_uri": "https://localhost:8080/"
        },
        "id": "I3Qs9OY1ce3w",
        "outputId": "740be8bf-80cb-4d8d-a3ab-fe86ed836f6d"
      },
      "source": [
        "datetime.now().year"
      ],
      "execution_count": 60,
      "outputs": [
        {
          "output_type": "execute_result",
          "data": {
            "text/plain": [
              "2020"
            ]
          },
          "metadata": {
            "tags": []
          },
          "execution_count": 60
        }
      ]
    },
    {
      "cell_type": "code",
      "metadata": {
        "colab": {
          "base_uri": "https://localhost:8080/"
        },
        "id": "PQP5ozZycizt",
        "outputId": "662cb716-f755-4336-ffe2-5329fdabc289"
      },
      "source": [
        "datetime.now().month"
      ],
      "execution_count": 61,
      "outputs": [
        {
          "output_type": "execute_result",
          "data": {
            "text/plain": [
              "12"
            ]
          },
          "metadata": {
            "tags": []
          },
          "execution_count": 61
        }
      ]
    },
    {
      "cell_type": "code",
      "metadata": {
        "colab": {
          "base_uri": "https://localhost:8080/"
        },
        "id": "EiFDA5tyclWa",
        "outputId": "e80f9d29-eee8-48e9-daf7-0ae200ee6e4a"
      },
      "source": [
        "datetime.now().day"
      ],
      "execution_count": 62,
      "outputs": [
        {
          "output_type": "execute_result",
          "data": {
            "text/plain": [
              "22"
            ]
          },
          "metadata": {
            "tags": []
          },
          "execution_count": 62
        }
      ]
    },
    {
      "cell_type": "code",
      "metadata": {
        "colab": {
          "base_uri": "https://localhost:8080/"
        },
        "id": "82OrCTAwcn95",
        "outputId": "0302781a-87e2-446f-87d2-c342815cfdce"
      },
      "source": [
        "datetime.now().hour"
      ],
      "execution_count": 63,
      "outputs": [
        {
          "output_type": "execute_result",
          "data": {
            "text/plain": [
              "14"
            ]
          },
          "metadata": {
            "tags": []
          },
          "execution_count": 63
        }
      ]
    },
    {
      "cell_type": "code",
      "metadata": {
        "colab": {
          "base_uri": "https://localhost:8080/"
        },
        "id": "S3pw_5bUcstA",
        "outputId": "4e972ab5-667c-4753-c7a9-ebb23861eebc"
      },
      "source": [
        "datetime.now().minute"
      ],
      "execution_count": 64,
      "outputs": [
        {
          "output_type": "execute_result",
          "data": {
            "text/plain": [
              "9"
            ]
          },
          "metadata": {
            "tags": []
          },
          "execution_count": 64
        }
      ]
    },
    {
      "cell_type": "code",
      "metadata": {
        "colab": {
          "base_uri": "https://localhost:8080/"
        },
        "id": "HE-RZ5pAcw8R",
        "outputId": "fdd2dc1a-74fe-4fca-8662-749905f58498"
      },
      "source": [
        "datetime.now().second"
      ],
      "execution_count": 65,
      "outputs": [
        {
          "output_type": "execute_result",
          "data": {
            "text/plain": [
              "25"
            ]
          },
          "metadata": {
            "tags": []
          },
          "execution_count": 65
        }
      ]
    },
    {
      "cell_type": "markdown",
      "metadata": {
        "id": "DD99MiwXnf0V"
      },
      "source": [
        "## Comparing datetimes"
      ]
    },
    {
      "cell_type": "markdown",
      "metadata": {
        "id": "1QDu_rkIuDkH"
      },
      "source": [
        "### Comparison operators\r\n",
        "\r\n",
        "1.   Less than `<`\r\n",
        "2.   More than `>`\r\n",
        "3.   Equal to `==`\r\n",
        "4.   Not equal to `!=`\r\n",
        "\r\n"
      ]
    },
    {
      "cell_type": "code",
      "metadata": {
        "id": "4cGSpRp-c1TQ"
      },
      "source": [
        "asian_crisis = datetime(1997, 7, 2)\r\n",
        "world_mini_crash = datetime(1997, 10, 27)"
      ],
      "execution_count": 66,
      "outputs": []
    },
    {
      "cell_type": "code",
      "metadata": {
        "colab": {
          "base_uri": "https://localhost:8080/"
        },
        "id": "ZXPmOOVAeAgo",
        "outputId": "4eb0d3f4-b30f-4e55-a2eb-9f796e7b34bb"
      },
      "source": [
        "asian_crisis > world_mini_crash  #Less than "
      ],
      "execution_count": 67,
      "outputs": [
        {
          "output_type": "execute_result",
          "data": {
            "text/plain": [
              "False"
            ]
          },
          "metadata": {
            "tags": []
          },
          "execution_count": 67
        }
      ]
    },
    {
      "cell_type": "code",
      "metadata": {
        "colab": {
          "base_uri": "https://localhost:8080/"
        },
        "id": "4kYjFXsLeJso",
        "outputId": "f1ae2b92-b32a-491e-95a0-bc89a17b58f1"
      },
      "source": [
        "asian_crisis < world_mini_crash  #More than"
      ],
      "execution_count": 68,
      "outputs": [
        {
          "output_type": "execute_result",
          "data": {
            "text/plain": [
              "True"
            ]
          },
          "metadata": {
            "tags": []
          },
          "execution_count": 68
        }
      ]
    },
    {
      "cell_type": "code",
      "metadata": {
        "colab": {
          "base_uri": "https://localhost:8080/"
        },
        "id": "mzv7_ZmDoLfz",
        "outputId": "b3dbe6b4-cf54-4df2-9b39-3de3e51754d9"
      },
      "source": [
        "asian_crisis != world_mini_crash  #Not equal to"
      ],
      "execution_count": 69,
      "outputs": [
        {
          "output_type": "execute_result",
          "data": {
            "text/plain": [
              "True"
            ]
          },
          "metadata": {
            "tags": []
          },
          "execution_count": 69
        }
      ]
    },
    {
      "cell_type": "code",
      "metadata": {
        "colab": {
          "base_uri": "https://localhost:8080/"
        },
        "id": "rnQFUxc2eMiw",
        "outputId": "2cfe0710-a918-4ebb-f3fe-48cff15ef33b"
      },
      "source": [
        "text = \"10/27/1997\"\r\n",
        "format_str = \"%m/%d/%Y\"\r\n",
        "\r\n",
        "sell_date = datetime.strptime(text, format_str)\r\n",
        "\r\n",
        "print(world_mini_crash == sell_date)   #Equal to"
      ],
      "execution_count": 70,
      "outputs": [
        {
          "output_type": "stream",
          "text": [
            "True\n"
          ],
          "name": "stdout"
        }
      ]
    },
    {
      "cell_type": "markdown",
      "metadata": {
        "id": "JAIYNRMhnovs"
      },
      "source": [
        "## Difference b/w datetimes"
      ]
    },
    {
      "cell_type": "code",
      "metadata": {
        "colab": {
          "base_uri": "https://localhost:8080/"
        },
        "id": "MNSa6Ov8ezEM",
        "outputId": "44eb3c19-51e3-4933-ccef-6467d7e7c6d0"
      },
      "source": [
        "delta = world_mini_crash - asian_crisis\r\n",
        "delta"
      ],
      "execution_count": 71,
      "outputs": [
        {
          "output_type": "execute_result",
          "data": {
            "text/plain": [
              "datetime.timedelta(117)"
            ]
          },
          "metadata": {
            "tags": []
          },
          "execution_count": 71
        }
      ]
    },
    {
      "cell_type": "markdown",
      "metadata": {
        "id": "wmaieuAjvF4m"
      },
      "source": [
        "In Python, when we subtract one datetime from another, the object returned is a `timedelta`, which represents the difference between two times. Timedelta objects have attributes for weeks, days, seconds, and microseconds."
      ]
    },
    {
      "cell_type": "code",
      "metadata": {
        "colab": {
          "base_uri": "https://localhost:8080/"
        },
        "id": "0_1fp2z4e2t2",
        "outputId": "d90471a5-509a-4044-c5c7-ab91874262d7"
      },
      "source": [
        "delta.days"
      ],
      "execution_count": 72,
      "outputs": [
        {
          "output_type": "execute_result",
          "data": {
            "text/plain": [
              "117"
            ]
          },
          "metadata": {
            "tags": []
          },
          "execution_count": 72
        }
      ]
    },
    {
      "cell_type": "markdown",
      "metadata": {
        "id": "_Fd4u_7wny88"
      },
      "source": [
        "### Creating relative datetimes"
      ]
    },
    {
      "cell_type": "code",
      "metadata": {
        "colab": {
          "base_uri": "https://localhost:8080/"
        },
        "id": "cKP7oZ7Te6Hg",
        "outputId": "1b510e81-6a8f-4469-c1fa-ddc7bd4aea61"
      },
      "source": [
        "dt = datetime(2020, 1, 26)\r\n",
        "dt"
      ],
      "execution_count": 73,
      "outputs": [
        {
          "output_type": "execute_result",
          "data": {
            "text/plain": [
              "datetime.datetime(2020, 1, 26, 0, 0)"
            ]
          },
          "metadata": {
            "tags": []
          },
          "execution_count": 73
        }
      ]
    },
    {
      "cell_type": "markdown",
      "metadata": {
        "id": "A26yA0P7wGQC"
      },
      "source": [
        "We can construct a new datetime, which is 10 days earlier. So, we could use the attributes of the first datetime to calculate a new datetime like this."
      ]
    },
    {
      "cell_type": "code",
      "metadata": {
        "colab": {
          "base_uri": "https://localhost:8080/"
        },
        "id": "IqWgc2aRfE9w",
        "outputId": "10e077f8-fcbf-41d6-ab58-9592d3f21760"
      },
      "source": [
        "datetime(dt.year, dt.month, dt.day - 10)"
      ],
      "execution_count": 74,
      "outputs": [
        {
          "output_type": "execute_result",
          "data": {
            "text/plain": [
              "datetime.datetime(2020, 1, 16, 0, 0)"
            ]
          },
          "metadata": {
            "tags": []
          },
          "execution_count": 74
        }
      ]
    },
    {
      "cell_type": "code",
      "metadata": {
        "colab": {
          "base_uri": "https://localhost:8080/",
          "height": 166
        },
        "id": "OPpoPpENfahq",
        "outputId": "e35db02f-1820-4cf8-e5ca-9335bc25b8e8"
      },
      "source": [
        "datetime(dt.year, dt.month, dt.day - 30)"
      ],
      "execution_count": 75,
      "outputs": [
        {
          "output_type": "error",
          "ename": "ValueError",
          "evalue": "ignored",
          "traceback": [
            "\u001b[0;31m---------------------------------------------------------------------------\u001b[0m",
            "\u001b[0;31mValueError\u001b[0m                                Traceback (most recent call last)",
            "\u001b[0;32m<ipython-input-75-bbac613d0d2a>\u001b[0m in \u001b[0;36m<module>\u001b[0;34m()\u001b[0m\n\u001b[0;32m----> 1\u001b[0;31m \u001b[0mdatetime\u001b[0m\u001b[0;34m(\u001b[0m\u001b[0mdt\u001b[0m\u001b[0;34m.\u001b[0m\u001b[0myear\u001b[0m\u001b[0;34m,\u001b[0m \u001b[0mdt\u001b[0m\u001b[0;34m.\u001b[0m\u001b[0mmonth\u001b[0m\u001b[0;34m,\u001b[0m \u001b[0mdt\u001b[0m\u001b[0;34m.\u001b[0m\u001b[0mday\u001b[0m \u001b[0;34m-\u001b[0m \u001b[0;36m30\u001b[0m\u001b[0;34m)\u001b[0m\u001b[0;34m\u001b[0m\u001b[0;34m\u001b[0m\u001b[0m\n\u001b[0m",
            "\u001b[0;31mValueError\u001b[0m: day is out of range for month"
          ]
        }
      ]
    },
    {
      "cell_type": "markdown",
      "metadata": {
        "id": "_NYE1adqwTAb"
      },
      "source": [
        "But this method is not recommended. It does not work when the number of days crosses into the next/last month or year. If we subtract more days than the date, this would result in a negative date and so we get an Value error."
      ]
    },
    {
      "cell_type": "markdown",
      "metadata": {
        "id": "dWAdo1k4wlsC"
      },
      "source": [
        "Instead of trying to manage the boundaries between days, months and years yourself, we should use `timedeltas` to create relative datetimes."
      ]
    },
    {
      "cell_type": "markdown",
      "metadata": {
        "id": "1PL5pot9n4aj"
      },
      "source": [
        "### Datetime - timedelta class"
      ]
    },
    {
      "cell_type": "markdown",
      "metadata": {
        "id": "jy10cmqhsFyO"
      },
      "source": [
        "`timedelta`  --  Python timedelta() function is present under datetime library which is generally used for calculating differences in dates and also can be used for date manipulations in Python."
      ]
    },
    {
      "cell_type": "code",
      "metadata": {
        "id": "V9dQRn0yfopF"
      },
      "source": [
        "from datetime import timedelta"
      ],
      "execution_count": 76,
      "outputs": []
    },
    {
      "cell_type": "markdown",
      "metadata": {
        "id": "sREvD_MgwsL7"
      },
      "source": [
        "To do this, we have to import timedelta from the datetime module and create a timedelta object for the desired offset. \r\n",
        "\r\n",
        "Now we can specify the timedelta in weeks, days, hours, minutes, seconds, or microseconds. And then subtract the timedelta from our start datetime to get the new offset one."
      ]
    },
    {
      "cell_type": "code",
      "metadata": {
        "colab": {
          "base_uri": "https://localhost:8080/"
        },
        "id": "zWpS7XtUfyXb",
        "outputId": "98479f2f-a7a6-4b55-e4c8-071f459034ae"
      },
      "source": [
        "offset = timedelta(weeks=1)\r\n",
        "offset"
      ],
      "execution_count": 77,
      "outputs": [
        {
          "output_type": "execute_result",
          "data": {
            "text/plain": [
              "datetime.timedelta(7)"
            ]
          },
          "metadata": {
            "tags": []
          },
          "execution_count": 77
        }
      ]
    },
    {
      "cell_type": "code",
      "metadata": {
        "colab": {
          "base_uri": "https://localhost:8080/"
        },
        "id": "wScEwwJCf5c4",
        "outputId": "65f719cb-d106-46b3-de9f-7843eeed8643"
      },
      "source": [
        "dt - offset"
      ],
      "execution_count": 78,
      "outputs": [
        {
          "output_type": "execute_result",
          "data": {
            "text/plain": [
              "datetime.datetime(2020, 1, 19, 0, 0)"
            ]
          },
          "metadata": {
            "tags": []
          },
          "execution_count": 78
        }
      ]
    },
    {
      "cell_type": "code",
      "metadata": {
        "colab": {
          "base_uri": "https://localhost:8080/"
        },
        "id": "qSqRf_3xf8Nw",
        "outputId": "71485be3-82ff-469e-f619-80bca4be99f9"
      },
      "source": [
        "offset = timedelta(days=30)\r\n",
        "offset"
      ],
      "execution_count": 79,
      "outputs": [
        {
          "output_type": "execute_result",
          "data": {
            "text/plain": [
              "datetime.timedelta(30)"
            ]
          },
          "metadata": {
            "tags": []
          },
          "execution_count": 79
        }
      ]
    },
    {
      "cell_type": "code",
      "metadata": {
        "colab": {
          "base_uri": "https://localhost:8080/"
        },
        "id": "IMfbtNMSgFKo",
        "outputId": "c90b0182-6287-4387-b46f-2409d0170fae"
      },
      "source": [
        "dt - offset"
      ],
      "execution_count": 80,
      "outputs": [
        {
          "output_type": "execute_result",
          "data": {
            "text/plain": [
              "datetime.datetime(2019, 12, 27, 0, 0)"
            ]
          },
          "metadata": {
            "tags": []
          },
          "execution_count": 80
        }
      ]
    },
    {
      "cell_type": "markdown",
      "metadata": {
        "id": "X75zMyruxGD6"
      },
      "source": [
        "`timedelta` will manage crossing temporal boundaries for us. Here we start with the datetime for January 26, 2020 (stored in `dt` variable already), and subtract a timedelta of 30 days. That brings us back to the previous year and month. The resulting datetime has the correct adjusted year, 2019, and month, December, thanks to the to timedelta's understanding of the boundaries."
      ]
    },
    {
      "cell_type": "markdown",
      "metadata": {
        "id": "Fo3eJfbGxbTk"
      },
      "source": [
        "This is very powerful when we need to calculate re-occurring dates, for weekly financial reports, or when we want to look back at a specific amount of time when trying to understand the causation of market events."
      ]
    }
  ]
}